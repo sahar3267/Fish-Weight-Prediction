{
 "cells": [
  {
   "cell_type": "code",
   "execution_count": 1,
   "metadata": {},
   "outputs": [],
   "source": [
    "import pandas as pd\n",
    "from sklearn.metrics import mean_squared_error\n",
    "from sklearn.ensemble import GradientBoostingRegressor\n",
    "from sklearn.linear_model import LinearRegression\n",
    "from sklearn.ensemble import ExtraTreesRegressor\n",
    "from joblib import dump\n",
    "import os\n",
    "from joblib import load"
   ]
  },
  {
   "cell_type": "code",
   "execution_count": 2,
   "metadata": {},
   "outputs": [],
   "source": [
    "# Import Training data\n",
    "train_path = os.path.join('../fish_participant.csv')\n",
    "train_df = pd.read_csv(train_path)\n",
    "train_df = train_df.assign(hw=train_df[\"Height\"] * train_df[\"Width\"])\n",
    "\n",
    "X = train_df[[\"Height\", \"Width\", \"hw\"]].values\n",
    "y = train_df[\"Weight\"].values\n",
    "# Import test data\n",
    "test_path = os.path.join('../fish_holdout_demo.csv')\n",
    "test_df = pd.read_csv(test_path)\n",
    "test_df= test_df.assign(hw=test_df[\"Height\"] * test_df[\"Width\"])"
   ]
  },
  {
   "cell_type": "code",
   "execution_count": 3,
   "metadata": {},
   "outputs": [],
   "source": [
    "# create model - we will use a gradient boosting regressor\n",
    "X = train_df[[\"Height\", \"Width\", \"hw\"]].values\n",
    "y = train_df[\"Weight\"].values\n",
    "\n",
    "est = GradientBoostingRegressor(n_estimators=100, learning_rate=0.1, max_depth=7, random_state=0, loss='ls').fit(X, y)\n",
    "\n",
    "# test model and score\n",
    "X_test = test_df[[\"Height\", \"Width\", \"hw\"]].values\n",
    "y_test = test_df[\"Weight\"].values\n",
    "\n",
    "MSE = mean_squared_error(y_test, est.predict(X_test))"
   ]
  },
  {
   "cell_type": "code",
   "execution_count": 4,
   "metadata": {},
   "outputs": [
    {
     "name": "stdout",
     "output_type": "stream",
     "text": [
      "0.01765511979538049\n"
     ]
    }
   ],
   "source": [
    "print(MSE)"
   ]
  },
  {
   "cell_type": "code",
   "execution_count": 5,
   "metadata": {},
   "outputs": [],
   "source": [
    "# create model - we will use a gradient boosting regressor\n",
    "X = train_df[[\"Height\", \"Width\", \"hw\"]].values\n",
    "y = train_df[\"Weight\"].values\n",
    "\n",
    "etr = ExtraTreesRegressor()\n",
    "etr.fit(X, y)\n",
    "\n",
    "# test model and score\n",
    "X_test = test_df[[\"Height\", \"Width\", \"hw\"]].values\n",
    "y_test = test_df[\"Weight\"].values\n",
    "\n",
    "MSE = mean_squared_error(y_test, etr.predict(X_test))"
   ]
  },
  {
   "cell_type": "code",
   "execution_count": 6,
   "metadata": {},
   "outputs": [
    {
     "name": "stdout",
     "output_type": "stream",
     "text": [
      "0.01178571428571457\n"
     ]
    }
   ],
   "source": [
    "print(MSE)"
   ]
  },
  {
   "cell_type": "code",
   "execution_count": null,
   "metadata": {},
   "outputs": [],
   "source": []
  },
  {
   "cell_type": "code",
   "execution_count": null,
   "metadata": {},
   "outputs": [],
   "source": []
  },
  {
   "cell_type": "code",
   "execution_count": null,
   "metadata": {},
   "outputs": [],
   "source": []
  }
 ],
 "metadata": {
  "kernelspec": {
   "display_name": "SMMBBGKJ-TTH-Prj1",
   "language": "python",
   "name": "smmbbgkj-tth-prj1"
  },
  "language_info": {
   "codemirror_mode": {
    "name": "ipython",
    "version": 3
   },
   "file_extension": ".py",
   "mimetype": "text/x-python",
   "name": "python",
   "nbconvert_exporter": "python",
   "pygments_lexer": "ipython3",
   "version": "3.8.0"
  }
 },
 "nbformat": 4,
 "nbformat_minor": 4
}
